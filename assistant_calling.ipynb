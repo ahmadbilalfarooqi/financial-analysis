{
 "cells": [
  {
   "cell_type": "code",
   "execution_count": 1,
   "metadata": {},
   "outputs": [],
   "source": [
    "from openai import OpenAI\n",
    "from dotenv import load_dotenv,find_dotenv\n",
    "import json\n",
    "import os\n",
    "import requests\n",
    "\n",
    "_:bool = load_dotenv(find_dotenv())\n",
    "client :OpenAI= OpenAI()"
   ]
  },
  {
   "cell_type": "code",
   "execution_count": 2,
   "metadata": {},
   "outputs": [],
   "source": [
    "key = os.environ[\"FMP_API_KEY\"]\n",
    "\n",
    "\n",
    "def income_statement(period):\n",
    "    \"Get income statement quarter or annual as per parameter or desire query\"\n",
    "    url = f\"https://financialmodelingprep.com/api/v3/income-statement/AAPL?period={period}&apikey={key}\"\n",
    "    res = requests.get(url)\n",
    "    return json.dumps(res.json())\n",
    "\n",
    "\n",
    "\n",
    "def balance_sheet_statement(period):\n",
    "    \"Get balance sheet statement as per parameter\"\n",
    "    url = f\"https://financialmodelingprep.com/api/v3/balance-sheet-statement/AAPL?period={period}&apikey={key}\"\n",
    "    res = requests.get(url)\n",
    "    return json.dumps(res.json())\n"
   ]
  },
  {
   "cell_type": "code",
   "execution_count": 3,
   "metadata": {},
   "outputs": [],
   "source": [
    "import json\n",
    "\n",
    "def show_json(message, obj):\n",
    "    display(message, json.loads(obj.model_dump_json()))"
   ]
  },
  {
   "cell_type": "code",
   "execution_count": 4,
   "metadata": {},
   "outputs": [
    {
     "data": {
      "text/plain": [
       "{'id': 'asst_GF7yTBW5Epnl4YsozOVSwtxS',\n",
       " 'created_at': 1702621901,\n",
       " 'description': None,\n",
       " 'file_ids': [],\n",
       " 'instructions': 'financial analytic specialist',\n",
       " 'metadata': {},\n",
       " 'model': 'gpt-3.5-turbo-1106',\n",
       " 'name': None,\n",
       " 'object': 'assistant',\n",
       " 'tools': [ToolFunction(function=FunctionDefinition(name='income_statement', parameters={'type': 'object', 'properties': {'period': {'type': 'string', 'description': 'income statement quarter or annual'}}, 'required': ['period']}, description='Get income statement quarter or annual as per parameter or desire query'), type='function'),\n",
       "  ToolFunction(function=FunctionDefinition(name='balance_sheet_statement', parameters={'type': 'object', 'properties': {'period': {'type': 'string', 'description': 'balance sheet statement'}}, 'required': ['period']}, description='Get balance sheet statement as per parameter'), type='function')]}"
      ]
     },
     "execution_count": 4,
     "metadata": {},
     "output_type": "execute_result"
    }
   ],
   "source": [
    "## ### Step 1: Create an Assistant and register/report your functions\n",
    "from openai import OpenAI\n",
    "_:bool = load_dotenv(find_dotenv())\n",
    "client : OpenAI = OpenAI()\n",
    "from openai.types.beta import Assistant\n",
    "\n",
    "assistant: Assistant = client.beta.assistants.create(\n",
    "  instructions=\"financial analytic specialist\",\n",
    "  model=\"gpt-3.5-turbo-1106\",\n",
    "  tools=[\n",
    "      {\n",
    "    \"type\": \"function\",\n",
    "    \"function\": {\n",
    "      \"name\": \"income_statement\",\n",
    "      \"description\": \"Get income statement quarter or annual as per parameter or desire query\",\n",
    "      \"parameters\": {\n",
    "        \"type\": \"object\",\n",
    "        \"properties\": {\n",
    "          \"period\": {\n",
    "            \"type\": \"string\", \n",
    "              \"description\": \"income statement quarter or annual\"}\n",
    "        },\n",
    "        \"required\": [\"period\"]\n",
    "      }\n",
    "    }\n",
    "    \n",
    "  },{\n",
    "    \"type\": \"function\",\n",
    "    \"function\": {\n",
    "      \"name\": \"balance_sheet_statement\",\n",
    "      \"description\": \"Get balance sheet statement as per parameter\",\n",
    "      \"parameters\": {\n",
    "        \"type\": \"object\",\n",
    "        \"properties\": {\n",
    "          \"period\": {\n",
    "            \"type\": \"string\", \n",
    "              \"description\": \"balance sheet statement\"}\n",
    "          },\n",
    "        \"required\": [\"period\"]\n",
    "        }\n",
    "      }\n",
    "    }]\n",
    ")\n",
    "dict(assistant)"
   ]
  },
  {
   "cell_type": "code",
   "execution_count": 5,
   "metadata": {},
   "outputs": [
    {
     "data": {
      "text/plain": [
       "{'id': 'thread_zKIZJWwMm8U4dAtCm7TpqVzw',\n",
       " 'created_at': 1702621916,\n",
       " 'metadata': {},\n",
       " 'object': 'thread'}"
      ]
     },
     "execution_count": 5,
     "metadata": {},
     "output_type": "execute_result"
    }
   ],
   "source": [
    "## Create a thread \n",
    "\n",
    "from openai.types.beta.thread import Thread\n",
    "\n",
    "thread: Thread  = client.beta.threads.create()\n",
    "\n",
    "dict(thread)\n"
   ]
  },
  {
   "cell_type": "code",
   "execution_count": 6,
   "metadata": {},
   "outputs": [
    {
     "data": {
      "text/plain": [
       "{'id': 'msg_0lYmR8SyJbqxwhkAXDiAhlLh',\n",
       " 'assistant_id': None,\n",
       " 'content': [MessageContentText(text=Text(annotations=[], value='Kindly show income statement and balance sheet sheet statement'), type='text')],\n",
       " 'created_at': 1702621923,\n",
       " 'file_ids': [],\n",
       " 'metadata': {},\n",
       " 'object': 'thread.message',\n",
       " 'role': 'user',\n",
       " 'run_id': None,\n",
       " 'thread_id': 'thread_zKIZJWwMm8U4dAtCm7TpqVzw'}"
      ]
     },
     "execution_count": 6,
     "metadata": {},
     "output_type": "execute_result"
    }
   ],
   "source": [
    "## ### Step 3: Add a Message to a Thread\n",
    "\n",
    "from openai.types.beta.threads.thread_message import ThreadMessage\n",
    "\n",
    "# First Request\n",
    "message = client.beta.threads.messages.create(\n",
    "    thread_id=thread.id,\n",
    "    role=\"user\",\n",
    "    content=\"Kindly show income statement and balance sheet sheet statement\"\n",
    ")\n",
    "dict(message)"
   ]
  },
  {
   "cell_type": "code",
   "execution_count": 7,
   "metadata": {},
   "outputs": [
    {
     "data": {
      "text/plain": [
       "{'id': 'run_WwxxMo9DBfZUcfHcEXd3suO2',\n",
       " 'assistant_id': 'asst_GF7yTBW5Epnl4YsozOVSwtxS',\n",
       " 'cancelled_at': None,\n",
       " 'completed_at': None,\n",
       " 'created_at': 1702621929,\n",
       " 'expires_at': 1702622529,\n",
       " 'failed_at': None,\n",
       " 'file_ids': [],\n",
       " 'instructions': 'financial analytic specialist',\n",
       " 'last_error': None,\n",
       " 'metadata': {},\n",
       " 'model': 'gpt-3.5-turbo-1106',\n",
       " 'object': 'thread.run',\n",
       " 'required_action': None,\n",
       " 'started_at': None,\n",
       " 'status': 'queued',\n",
       " 'thread_id': 'thread_zKIZJWwMm8U4dAtCm7TpqVzw',\n",
       " 'tools': [ToolAssistantToolsFunction(function=FunctionDefinition(name='income_statement', parameters={'type': 'object', 'properties': {'period': {'type': 'string', 'description': 'income statement quarter or annual'}}, 'required': ['period']}, description='Get income statement quarter or annual as per parameter or desire query'), type='function'),\n",
       "  ToolAssistantToolsFunction(function=FunctionDefinition(name='balance_sheet_statement', parameters={'type': 'object', 'properties': {'period': {'type': 'string', 'description': 'balance sheet statement'}}, 'required': ['period']}, description='Get balance sheet statement as per parameter'), type='function')]}"
      ]
     },
     "execution_count": 7,
     "metadata": {},
     "output_type": "execute_result"
    }
   ],
   "source": [
    "## Run the Assistant\n",
    "\n",
    "\n",
    "from openai.types.beta.threads.run import Run\n",
    "\n",
    "run: Run = client.beta.threads.runs.create(\n",
    "  thread_id=thread.id,\n",
    "  assistant_id=assistant.id\n",
    ")\n",
    "dict(run)"
   ]
  },
  {
   "cell_type": "code",
   "execution_count": 8,
   "metadata": {},
   "outputs": [
    {
     "data": {
      "text/plain": [
       "{'income_statement': <function __main__.income_statement(period)>,\n",
       " 'balance_sheet_statement': <function __main__.balance_sheet_statement(period)>}"
      ]
     },
     "execution_count": 8,
     "metadata": {},
     "output_type": "execute_result"
    }
   ],
   "source": [
    "available_functions = {\n",
    "    \"income_statement\": income_statement,\n",
    "    \"balance_sheet_statement\": balance_sheet_statement\n",
    "    \n",
    "} \n",
    "dict(available_functions)"
   ]
  },
  {
   "cell_type": "code",
   "execution_count": 9,
   "metadata": {},
   "outputs": [
    {
     "data": {
      "text/plain": [
       "'Run Steps:'"
      ]
     },
     "metadata": {},
     "output_type": "display_data"
    },
    {
     "data": {
      "text/plain": [
       "{'data': [],\n",
       " 'object': 'list',\n",
       " 'first_id': None,\n",
       " 'last_id': None,\n",
       " 'has_more': False}"
      ]
     },
     "metadata": {},
     "output_type": "display_data"
    },
    {
     "name": "stdout",
     "output_type": "stream",
     "text": [
      "Run is queued. Waiting...\n"
     ]
    },
    {
     "data": {
      "text/plain": [
       "'Run Steps:'"
      ]
     },
     "metadata": {},
     "output_type": "display_data"
    },
    {
     "data": {
      "text/plain": [
       "{'data': [],\n",
       " 'object': 'list',\n",
       " 'first_id': None,\n",
       " 'last_id': None,\n",
       " 'has_more': False}"
      ]
     },
     "metadata": {},
     "output_type": "display_data"
    },
    {
     "name": "stdout",
     "output_type": "stream",
     "text": [
      "Run is queued. Waiting...\n"
     ]
    },
    {
     "data": {
      "text/plain": [
       "'Run Steps:'"
      ]
     },
     "metadata": {},
     "output_type": "display_data"
    },
    {
     "data": {
      "text/plain": [
       "{'data': [],\n",
       " 'object': 'list',\n",
       " 'first_id': None,\n",
       " 'last_id': None,\n",
       " 'has_more': False}"
      ]
     },
     "metadata": {},
     "output_type": "display_data"
    },
    {
     "name": "stdout",
     "output_type": "stream",
     "text": [
      "Run is queued. Waiting...\n"
     ]
    },
    {
     "data": {
      "text/plain": [
       "'Run Steps:'"
      ]
     },
     "metadata": {},
     "output_type": "display_data"
    },
    {
     "data": {
      "text/plain": [
       "{'data': [],\n",
       " 'object': 'list',\n",
       " 'first_id': None,\n",
       " 'last_id': None,\n",
       " 'has_more': False}"
      ]
     },
     "metadata": {},
     "output_type": "display_data"
    },
    {
     "name": "stdout",
     "output_type": "stream",
     "text": [
      "Run is queued. Waiting...\n"
     ]
    },
    {
     "data": {
      "text/plain": [
       "'Run Steps:'"
      ]
     },
     "metadata": {},
     "output_type": "display_data"
    },
    {
     "data": {
      "text/plain": [
       "{'data': [],\n",
       " 'object': 'list',\n",
       " 'first_id': None,\n",
       " 'last_id': None,\n",
       " 'has_more': False}"
      ]
     },
     "metadata": {},
     "output_type": "display_data"
    },
    {
     "name": "stdout",
     "output_type": "stream",
     "text": [
      "Run is queued. Waiting...\n"
     ]
    },
    {
     "data": {
      "text/plain": [
       "'Run Steps:'"
      ]
     },
     "metadata": {},
     "output_type": "display_data"
    },
    {
     "data": {
      "text/plain": [
       "{'data': [],\n",
       " 'object': 'list',\n",
       " 'first_id': None,\n",
       " 'last_id': None,\n",
       " 'has_more': False}"
      ]
     },
     "metadata": {},
     "output_type": "display_data"
    },
    {
     "name": "stdout",
     "output_type": "stream",
     "text": [
      "Run is queued. Waiting...\n"
     ]
    },
    {
     "data": {
      "text/plain": [
       "'Run Steps:'"
      ]
     },
     "metadata": {},
     "output_type": "display_data"
    },
    {
     "data": {
      "text/plain": [
       "{'data': [],\n",
       " 'object': 'list',\n",
       " 'first_id': None,\n",
       " 'last_id': None,\n",
       " 'has_more': False}"
      ]
     },
     "metadata": {},
     "output_type": "display_data"
    },
    {
     "name": "stdout",
     "output_type": "stream",
     "text": [
      "Run is queued. Waiting...\n"
     ]
    }
   ],
   "source": [
    "import time\n",
    "\n",
    "# Loop until the run completes or requires action\n",
    "while True:\n",
    "    runStatus = client.beta.threads.runs.retrieve(thread_id=thread.id,\n",
    "                                                  run_id=run.id)\n",
    "    # Add run steps retrieval here for debuging\n",
    "    run_steps = client.beta.threads.runs.steps.list(\n",
    "        thread_id=thread.id, run_id=run.id)\n",
    "    show_json(\"Run Steps:\", run_steps)\n",
    "    # print(runStatus.status ,'.....')\n",
    "\n",
    "    # This means run is making a function call\n",
    "    if runStatus.status == \"requires_action\":\n",
    "        # print(runStatus.status ,'.....')\n",
    "        # print(\"Status: \", \"requires_action\")\n",
    "        show_json(\"submit_tool_outputs\", runStatus.required_action)\n",
    "        if runStatus.required_action.submit_tool_outputs and runStatus.required_action.submit_tool_outputs.tool_calls:\n",
    "\n",
    "            toolCalls = runStatus.required_action.submit_tool_outputs.tool_calls\n",
    "\n",
    "            tool_outputs = []\n",
    "            for toolcall in toolCalls:\n",
    "                function_name = toolcall.function.name\n",
    "                function_args = json.loads(toolcall.function.arguments)\n",
    "\n",
    "                if function_name in available_functions:\n",
    "\n",
    "                    function_to_call = available_functions[function_name]\n",
    "                    response = function_to_call(**function_args)\n",
    "            tool_outputs.append({\n",
    "                \"tool_call_id\": toolcall.id,\n",
    "                \"output\": response\n",
    "                })\n",
    "\n",
    "                # print(tool_outputs, \">>>>>\")\n",
    "        # Submit tool outputs and update the run\n",
    "            client.beta.threads.runs.submit_tool_outputs(\n",
    "            thread_id=thread.id,\n",
    "            run_id=run.id,\n",
    "            tool_outputs=tool_outputs)\n",
    "\n",
    "    elif runStatus.status == \"completed\":\n",
    "        # List the messages to get the response\n",
    "        print(\"completed...........logic\")\n",
    "        messages: list[ThreadMessage] = client.beta.threads.messages.list(\n",
    "            thread_id=thread.id)\n",
    "        for message in messages.data:\n",
    "            role_label = \"User\" if message.role == \"user\" else \"Assistant\"\n",
    "            message_content = message.content[0].text.value\n",
    "            print(f\"{role_label}: {message_content}\\n\")\n",
    "        break  # Exit the loop after processing the completed run\n",
    "\n",
    "    elif run.status == \"failed\":\n",
    "        print(\"Run failed.\")\n",
    "        break\n",
    "\n",
    "    elif run.status in [\"in_progress\", \"queued\"]:\n",
    "        print(f\"Run is {run.status}. Waiting...\")\n",
    "        time.sleep(2)  # Wait for 5 seconds before checking again\n",
    "\n",
    "    else:\n",
    "        print(f\"Unexpected status: {run.status}\")\n",
    "        break"
   ]
  }
 ],
 "metadata": {
  "kernelspec": {
   "display_name": "myopenai",
   "language": "python",
   "name": "python3"
  },
  "language_info": {
   "codemirror_mode": {
    "name": "ipython",
    "version": 3
   },
   "file_extension": ".py",
   "mimetype": "text/x-python",
   "name": "python",
   "nbconvert_exporter": "python",
   "pygments_lexer": "ipython3",
   "version": "3.12.0"
  }
 },
 "nbformat": 4,
 "nbformat_minor": 2
}
