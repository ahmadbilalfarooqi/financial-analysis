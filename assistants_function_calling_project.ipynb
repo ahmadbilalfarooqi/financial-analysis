{
 "cells": [
  {
   "cell_type": "markdown",
   "metadata": {},
   "source": [
    "# Assistants API - Function Calling"
   ]
  },
  {
   "cell_type": "code",
   "execution_count": 12,
   "metadata": {},
   "outputs": [],
   "source": [
    "from openai import OpenAI\n",
    "import json\n",
    "from dotenv import load_dotenv, find_dotenv\n",
    "import os\n",
    "import requests\n",
    "\n",
    "_ : bool = load_dotenv(find_dotenv()) # read local .env file\n",
    "openai_key = os.environ[\"OPENAI_API_KEY\"]\n"
   ]
  },
  {
   "cell_type": "code",
   "execution_count": 13,
   "metadata": {},
   "outputs": [],
   "source": [
    "client : OpenAI = OpenAI()"
   ]
  },
  {
   "cell_type": "code",
   "execution_count": 14,
   "metadata": {},
   "outputs": [
    {
     "name": "stdout",
     "output_type": "stream",
     "text": [
      "[{\"date\": \"2023-09-30\", \"symbol\": \"AAPL\", \"reportedCurrency\": \"USD\", \"cik\": \"0000320193\", \"fillingDate\": \"2023-11-03\", \"acceptedDate\": \"2023-11-02 18:08:27\", \"calendarYear\": \"2023\", \"period\": \"FY\", \"revenue\": 383285000000, \"costOfRevenue\": 214137000000, \"grossProfit\": 169148000000, \"grossProfitRatio\": 0.4413112958, \"researchAndDevelopmentExpenses\": 29915000000, \"generalAndAdministrativeExpenses\": 0, \"sellingAndMarketingExpenses\": 0, \"sellingGeneralAndAdministrativeExpenses\": 24932000000, \"otherExpenses\": -565000000, \"operatingExpenses\": 54847000000, \"costAndExpenses\": 268984000000, \"interestIncome\": 3750000000, \"interestExpense\": 3933000000, \"depreciationAndAmortization\": 11519000000, \"ebitda\": 125820000000, \"ebitdaratio\": 0.3282674772, \"operatingIncome\": 114301000000, \"operatingIncomeRatio\": 0.2982141227, \"totalOtherIncomeExpensesNet\": -565000000, \"incomeBeforeTax\": 113736000000, \"incomeBeforeTaxRatio\": 0.2967400237, \"incomeTaxExpense\": 16741000000, \"netIncome\": 96995000000, \"netIncomeRatio\": 0.2530623426, \"eps\": 6.16, \"epsdiluted\": 6.13, \"weightedAverageShsOut\": 15744231000, \"weightedAverageShsOutDil\": 15812547000, \"link\": \"https://www.sec.gov/Archives/edgar/data/320193/000032019323000106/0000320193-23-000106-index.htm\", \"finalLink\": \"https://www.sec.gov/Archives/edgar/data/320193/000032019323000106/aapl-20230930.htm\"}, {\"date\": \"2022-09-24\", \"symbol\": \"AAPL\", \"reportedCurrency\": \"USD\", \"cik\": \"0000320193\", \"fillingDate\": \"2022-10-28\", \"acceptedDate\": \"2022-10-27 18:01:14\", \"calendarYear\": \"2022\", \"period\": \"FY\", \"revenue\": 394328000000, \"costOfRevenue\": 223546000000, \"grossProfit\": 170782000000, \"grossProfitRatio\": 0.4330963056, \"researchAndDevelopmentExpenses\": 26251000000, \"generalAndAdministrativeExpenses\": 0, \"sellingAndMarketingExpenses\": 0, \"sellingGeneralAndAdministrativeExpenses\": 25094000000, \"otherExpenses\": -334000000, \"operatingExpenses\": 51345000000, \"costAndExpenses\": 274891000000, \"interestIncome\": 2825000000, \"interestExpense\": 2931000000, \"depreciationAndAmortization\": 11104000000, \"ebitda\": 130541000000, \"ebitdaratio\": 0.3310467428, \"operatingIncome\": 119437000000, \"operatingIncomeRatio\": 0.302887444, \"totalOtherIncomeExpensesNet\": -334000000, \"incomeBeforeTax\": 119103000000, \"incomeBeforeTaxRatio\": 0.3020404333, \"incomeTaxExpense\": 19300000000, \"netIncome\": 99803000000, \"netIncomeRatio\": 0.2530964071, \"eps\": 6.15, \"epsdiluted\": 6.11, \"weightedAverageShsOut\": 16215963000, \"weightedAverageShsOutDil\": 16325819000, \"link\": \"https://www.sec.gov/Archives/edgar/data/320193/000032019322000108/0000320193-22-000108-index.htm\", \"finalLink\": \"https://www.sec.gov/Archives/edgar/data/320193/000032019322000108/aapl-20220924.htm\"}, {\"date\": \"2021-09-25\", \"symbol\": \"AAPL\", \"reportedCurrency\": \"USD\", \"cik\": \"0000320193\", \"fillingDate\": \"2021-10-29\", \"acceptedDate\": \"2021-10-28 18:04:28\", \"calendarYear\": \"2021\", \"period\": \"FY\", \"revenue\": 365817000000, \"costOfRevenue\": 212981000000, \"grossProfit\": 152836000000, \"grossProfitRatio\": 0.4177935963, \"researchAndDevelopmentExpenses\": 21914000000, \"generalAndAdministrativeExpenses\": 0, \"sellingAndMarketingExpenses\": 0, \"sellingGeneralAndAdministrativeExpenses\": 21973000000, \"otherExpenses\": 258000000, \"operatingExpenses\": 43887000000, \"costAndExpenses\": 256868000000, \"interestIncome\": 2843000000, \"interestExpense\": 2645000000, \"depreciationAndAmortization\": 11284000000, \"ebitda\": 120233000000, \"ebitdaratio\": 0.3286697994, \"operatingIncome\": 108949000000, \"operatingIncomeRatio\": 0.2978237753, \"totalOtherIncomeExpensesNet\": 258000000, \"incomeBeforeTax\": 109207000000, \"incomeBeforeTaxRatio\": 0.2985290459, \"incomeTaxExpense\": 14527000000, \"netIncome\": 94680000000, \"netIncomeRatio\": 0.2588179336, \"eps\": 5.67, \"epsdiluted\": 5.61, \"weightedAverageShsOut\": 16701272000, \"weightedAverageShsOutDil\": 16864919000, \"link\": \"https://www.sec.gov/Archives/edgar/data/320193/000032019321000105/0000320193-21-000105-index.htm\", \"finalLink\": \"https://www.sec.gov/Archives/edgar/data/320193/000032019321000105/aapl-20210925.htm\"}, {\"date\": \"2020-09-26\", \"symbol\": \"AAPL\", \"reportedCurrency\": \"USD\", \"cik\": \"0000320193\", \"fillingDate\": \"2020-10-30\", \"acceptedDate\": \"2020-10-29 18:06:25\", \"calendarYear\": \"2020\", \"period\": \"FY\", \"revenue\": 274515000000, \"costOfRevenue\": 169559000000, \"grossProfit\": 104956000000, \"grossProfitRatio\": 0.3823324773, \"researchAndDevelopmentExpenses\": 18752000000, \"generalAndAdministrativeExpenses\": 0, \"sellingAndMarketingExpenses\": 0, \"sellingGeneralAndAdministrativeExpenses\": 19916000000, \"otherExpenses\": 803000000, \"operatingExpenses\": 38668000000, \"costAndExpenses\": 208227000000, \"interestIncome\": 3763000000, \"interestExpense\": 2873000000, \"depreciationAndAmortization\": 11056000000, \"ebitda\": 77344000000, \"ebitdaratio\": 0.2817478098, \"operatingIncome\": 66288000000, \"operatingIncomeRatio\": 0.2414731435, \"totalOtherIncomeExpensesNet\": 803000000, \"incomeBeforeTax\": 67091000000, \"incomeBeforeTaxRatio\": 0.2443983025, \"incomeTaxExpense\": 9680000000, \"netIncome\": 57411000000, \"netIncomeRatio\": 0.2091361128, \"eps\": 3.31, \"epsdiluted\": 3.28, \"weightedAverageShsOut\": 17352119000, \"weightedAverageShsOutDil\": 17528214000, \"link\": \"https://www.sec.gov/Archives/edgar/data/320193/000032019320000096/0000320193-20-000096-index.htm\", \"finalLink\": \"https://www.sec.gov/Archives/edgar/data/320193/000032019320000096/aapl-20200926.htm\"}, {\"date\": \"2019-09-28\", \"symbol\": \"AAPL\", \"reportedCurrency\": \"USD\", \"cik\": \"0000320193\", \"fillingDate\": \"2019-10-31\", \"acceptedDate\": \"2019-10-30 18:12:36\", \"calendarYear\": \"2019\", \"period\": \"FY\", \"revenue\": 260174000000, \"costOfRevenue\": 161782000000, \"grossProfit\": 98392000000, \"grossProfitRatio\": 0.3781776811, \"researchAndDevelopmentExpenses\": 16217000000, \"generalAndAdministrativeExpenses\": 0, \"sellingAndMarketingExpenses\": 0, \"sellingGeneralAndAdministrativeExpenses\": 18245000000, \"otherExpenses\": 1807000000, \"operatingExpenses\": 34462000000, \"costAndExpenses\": 196244000000, \"interestIncome\": 4961000000, \"interestExpense\": 3576000000, \"depreciationAndAmortization\": 12547000000, \"ebitda\": 76477000000, \"ebitdaratio\": 0.2939455903, \"operatingIncome\": 63930000000, \"operatingIncomeRatio\": 0.2457201719, \"totalOtherIncomeExpensesNet\": 1807000000, \"incomeBeforeTax\": 65737000000, \"incomeBeforeTaxRatio\": 0.2526655238, \"incomeTaxExpense\": 10481000000, \"netIncome\": 55256000000, \"netIncomeRatio\": 0.2123809451, \"eps\": 2.99, \"epsdiluted\": 2.97, \"weightedAverageShsOut\": 18471336000, \"weightedAverageShsOutDil\": 18595652000, \"link\": \"https://www.sec.gov/Archives/edgar/data/320193/000032019319000119/0000320193-19-000119-index.htm\", \"finalLink\": \"https://www.sec.gov/Archives/edgar/data/320193/000032019319000119/a10-k20199282019.htm\"}]\n"
     ]
    }
   ],
   "source": [
    "key = os.environ[\"FMP_API_KEY\"]\n",
    "\n",
    "def income_statment(period):\n",
    "    url = f\"https://financialmodelingprep.com/api/v3/income-statement/0000320193?period={period}&apikey={key}\"\n",
    "    res = requests.get(url)\n",
    "    return json.dumps(res.json())\n",
    "\n",
    "def balance_sheet_statment(period):\n",
    "    url = f\"https://financialmodelingprep.com/api/v3/balance-sheet-statement/0000320193?period={period}&apikey={key}\"\n",
    "    res = requests.get(url)\n",
    "    return json.dumps(res.json())\n",
    "\n",
    "print(income_statment(\"annual\"))"
   ]
  },
  {
   "cell_type": "code",
   "execution_count": 15,
   "metadata": {},
   "outputs": [],
   "source": [
    "import json\n",
    "\n",
    "def show_json(message, obj):\n",
    "    display(message, json.loads(obj.model_dump_json()))"
   ]
  },
  {
   "cell_type": "code",
   "execution_count": 16,
   "metadata": {},
   "outputs": [
    {
     "data": {
      "text/plain": [
       "{'id': 'asst_CHhjbGRXR1pgjXVa6QthxZHZ',\n",
       " 'created_at': 1702623853,\n",
       " 'description': None,\n",
       " 'file_ids': [],\n",
       " 'instructions': 'financial analetics specialist',\n",
       " 'metadata': {},\n",
       " 'model': 'gpt-3.5-turbo-1106',\n",
       " 'name': None,\n",
       " 'object': 'assistant',\n",
       " 'tools': [ToolFunction(function=FunctionDefinition(name='income_statment', parameters={'type': 'object', 'properties': {'period': {'type': 'string', 'description': 'income statment quater or annual'}}, 'required': ['period']}, description='Get income statment quater or annual as per parameter or desire query'), type='function'),\n",
       "  ToolFunction(function=FunctionDefinition(name='balance_sheet_statment', parameters={'type': 'object', 'properties': {'period': {'type': 'string', 'description': 'balance sheet statment quater or annual'}}, 'required': ['period']}, description='Get balance sheet statment quater or annual as per parameter or desire query'), type='function')]}"
      ]
     },
     "execution_count": 16,
     "metadata": {},
     "output_type": "execute_result"
    }
   ],
   "source": [
    "\n",
    "\n",
    "assistant = client.beta.assistants.create(\n",
    "    instructions=\"financial analetics specialist\",\n",
    "    model=\"gpt-3.5-turbo-1106\",\n",
    "    tools=[{\n",
    "        \"type\": \"function\",\n",
    "        \"function\": {\n",
    "          \"name\": \"income_statment\",\n",
    "          \"description\": \"Get income statment quater or annual as per parameter or desire query\",\n",
    "          \"parameters\": {\n",
    "              \"type\": \"object\",\n",
    "              \"properties\": {\n",
    "                  \"period\": {\"type\": \"string\", \"description\": \"income statment quater or annual\"},\n",
    "              },\n",
    "              \"required\": [\"period\"]\n",
    "          }\n",
    "        }\n",
    "    }, {\n",
    "        \"type\": \"function\",\n",
    "        \"function\": {\n",
    "            \"name\": \"balance_sheet_statment\",\n",
    "            \"description\": \"Get balance sheet statment quater or annual as per parameter or desire query\",\n",
    "            \"parameters\": {\n",
    "                \"type\": \"object\",\n",
    "                \"properties\": {\n",
    "                    \"period\": {\"type\": \"string\", \"description\": \"balance sheet statment quater or annual\"},\n",
    "                },\n",
    "                \"required\": [\"period\"]\n",
    "            }\n",
    "        }\n",
    "    }\n",
    "    ]\n",
    ")\n",
    "\n",
    "dict(assistant)"
   ]
  },
  {
   "cell_type": "code",
   "execution_count": 17,
   "metadata": {},
   "outputs": [
    {
     "data": {
      "text/plain": [
       "{'id': 'thread_d0v5ESugtkuVl0oSwZ5rq3Ie',\n",
       " 'created_at': 1702623879,\n",
       " 'metadata': {},\n",
       " 'object': 'thread'}"
      ]
     },
     "execution_count": 17,
     "metadata": {},
     "output_type": "execute_result"
    }
   ],
   "source": [
    "\n",
    "thread = client.beta.threads.create()\n",
    "\n",
    "dict(thread)\n"
   ]
  },
  {
   "cell_type": "code",
   "execution_count": 18,
   "metadata": {},
   "outputs": [
    {
     "data": {
      "text/plain": [
       "{'id': 'msg_1gb6TsmJws2Ezj0F0jhk1BaK',\n",
       " 'assistant_id': None,\n",
       " 'content': [MessageContentText(text=Text(annotations=[], value='Kindly show quater income statemnet.'), type='text')],\n",
       " 'created_at': 1702623887,\n",
       " 'file_ids': [],\n",
       " 'metadata': {},\n",
       " 'object': 'thread.message',\n",
       " 'role': 'user',\n",
       " 'run_id': None,\n",
       " 'thread_id': 'thread_d0v5ESugtkuVl0oSwZ5rq3Ie'}"
      ]
     },
     "execution_count": 18,
     "metadata": {},
     "output_type": "execute_result"
    }
   ],
   "source": [
    "message = client.beta.threads.messages.create(\n",
    "    thread_id=thread.id,\n",
    "    role=\"user\",\n",
    "    content=\"Kindly show quater income statemnet.\"\n",
    ")\n",
    "dict(message)"
   ]
  },
  {
   "cell_type": "code",
   "execution_count": 19,
   "metadata": {},
   "outputs": [
    {
     "data": {
      "text/plain": [
       "{'id': 'run_RIpRaicf32J2ACmPZQfBqgFS',\n",
       " 'assistant_id': 'asst_CHhjbGRXR1pgjXVa6QthxZHZ',\n",
       " 'cancelled_at': None,\n",
       " 'completed_at': None,\n",
       " 'created_at': 1702623903,\n",
       " 'expires_at': 1702624503,\n",
       " 'failed_at': None,\n",
       " 'file_ids': [],\n",
       " 'instructions': 'financial analetics specialist',\n",
       " 'last_error': None,\n",
       " 'metadata': {},\n",
       " 'model': 'gpt-3.5-turbo-1106',\n",
       " 'object': 'thread.run',\n",
       " 'required_action': None,\n",
       " 'started_at': None,\n",
       " 'status': 'queued',\n",
       " 'thread_id': 'thread_d0v5ESugtkuVl0oSwZ5rq3Ie',\n",
       " 'tools': [ToolAssistantToolsFunction(function=FunctionDefinition(name='income_statment', parameters={'type': 'object', 'properties': {'period': {'type': 'string', 'description': 'income statment quater or annual'}}, 'required': ['period']}, description='Get income statment quater or annual as per parameter or desire query'), type='function'),\n",
       "  ToolAssistantToolsFunction(function=FunctionDefinition(name='balance_sheet_statment', parameters={'type': 'object', 'properties': {'period': {'type': 'string', 'description': 'balance sheet statment quater or annual'}}, 'required': ['period']}, description='Get balance sheet statment quater or annual as per parameter or desire query'), type='function')]}"
      ]
     },
     "execution_count": 19,
     "metadata": {},
     "output_type": "execute_result"
    }
   ],
   "source": [
    "run = client.beta.threads.runs.create(\n",
    "  thread_id=thread.id,\n",
    "  assistant_id=assistant.id\n",
    ")\n",
    "dict(run)"
   ]
  },
  {
   "cell_type": "code",
   "execution_count": 20,
   "metadata": {},
   "outputs": [],
   "source": [
    "available_functions = {\n",
    "    \"income_statment\": income_statment,\n",
    "    \"balance_sheet_statment\": balance_sheet_statment\n",
    "}"
   ]
  },
  {
   "cell_type": "code",
   "execution_count": 21,
   "metadata": {},
   "outputs": [
    {
     "name": "stdout",
     "output_type": "stream",
     "text": [
      "[{'tool_call_id': 'call_A7bP8vgGoTqqeGpNV4kR2A08', 'output': '[{\"date\": \"2023-09-30\", \"symbol\": \"AAPL\", \"reportedCurrency\": \"USD\", \"cik\": \"0000320193\", \"fillingDate\": \"2023-11-03\", \"acceptedDate\": \"2023-11-02 18:08:27\", \"calendarYear\": \"2023\", \"period\": \"FY\", \"revenue\": 383285000000, \"costOfRevenue\": 214137000000, \"grossProfit\": 169148000000, \"grossProfitRatio\": 0.4413112958, \"researchAndDevelopmentExpenses\": 29915000000, \"generalAndAdministrativeExpenses\": 0, \"sellingAndMarketingExpenses\": 0, \"sellingGeneralAndAdministrativeExpenses\": 24932000000, \"otherExpenses\": -565000000, \"operatingExpenses\": 54847000000, \"costAndExpenses\": 268984000000, \"interestIncome\": 3750000000, \"interestExpense\": 3933000000, \"depreciationAndAmortization\": 11519000000, \"ebitda\": 125820000000, \"ebitdaratio\": 0.3282674772, \"operatingIncome\": 114301000000, \"operatingIncomeRatio\": 0.2982141227, \"totalOtherIncomeExpensesNet\": -565000000, \"incomeBeforeTax\": 113736000000, \"incomeBeforeTaxRatio\": 0.2967400237, \"incomeTaxExpense\": 16741000000, \"netIncome\": 96995000000, \"netIncomeRatio\": 0.2530623426, \"eps\": 6.16, \"epsdiluted\": 6.13, \"weightedAverageShsOut\": 15744231000, \"weightedAverageShsOutDil\": 15812547000, \"link\": \"https://www.sec.gov/Archives/edgar/data/320193/000032019323000106/0000320193-23-000106-index.htm\", \"finalLink\": \"https://www.sec.gov/Archives/edgar/data/320193/000032019323000106/aapl-20230930.htm\"}, {\"date\": \"2022-09-24\", \"symbol\": \"AAPL\", \"reportedCurrency\": \"USD\", \"cik\": \"0000320193\", \"fillingDate\": \"2022-10-28\", \"acceptedDate\": \"2022-10-27 18:01:14\", \"calendarYear\": \"2022\", \"period\": \"FY\", \"revenue\": 394328000000, \"costOfRevenue\": 223546000000, \"grossProfit\": 170782000000, \"grossProfitRatio\": 0.4330963056, \"researchAndDevelopmentExpenses\": 26251000000, \"generalAndAdministrativeExpenses\": 0, \"sellingAndMarketingExpenses\": 0, \"sellingGeneralAndAdministrativeExpenses\": 25094000000, \"otherExpenses\": -334000000, \"operatingExpenses\": 51345000000, \"costAndExpenses\": 274891000000, \"interestIncome\": 2825000000, \"interestExpense\": 2931000000, \"depreciationAndAmortization\": 11104000000, \"ebitda\": 130541000000, \"ebitdaratio\": 0.3310467428, \"operatingIncome\": 119437000000, \"operatingIncomeRatio\": 0.302887444, \"totalOtherIncomeExpensesNet\": -334000000, \"incomeBeforeTax\": 119103000000, \"incomeBeforeTaxRatio\": 0.3020404333, \"incomeTaxExpense\": 19300000000, \"netIncome\": 99803000000, \"netIncomeRatio\": 0.2530964071, \"eps\": 6.15, \"epsdiluted\": 6.11, \"weightedAverageShsOut\": 16215963000, \"weightedAverageShsOutDil\": 16325819000, \"link\": \"https://www.sec.gov/Archives/edgar/data/320193/000032019322000108/0000320193-22-000108-index.htm\", \"finalLink\": \"https://www.sec.gov/Archives/edgar/data/320193/000032019322000108/aapl-20220924.htm\"}, {\"date\": \"2021-09-25\", \"symbol\": \"AAPL\", \"reportedCurrency\": \"USD\", \"cik\": \"0000320193\", \"fillingDate\": \"2021-10-29\", \"acceptedDate\": \"2021-10-28 18:04:28\", \"calendarYear\": \"2021\", \"period\": \"FY\", \"revenue\": 365817000000, \"costOfRevenue\": 212981000000, \"grossProfit\": 152836000000, \"grossProfitRatio\": 0.4177935963, \"researchAndDevelopmentExpenses\": 21914000000, \"generalAndAdministrativeExpenses\": 0, \"sellingAndMarketingExpenses\": 0, \"sellingGeneralAndAdministrativeExpenses\": 21973000000, \"otherExpenses\": 258000000, \"operatingExpenses\": 43887000000, \"costAndExpenses\": 256868000000, \"interestIncome\": 2843000000, \"interestExpense\": 2645000000, \"depreciationAndAmortization\": 11284000000, \"ebitda\": 120233000000, \"ebitdaratio\": 0.3286697994, \"operatingIncome\": 108949000000, \"operatingIncomeRatio\": 0.2978237753, \"totalOtherIncomeExpensesNet\": 258000000, \"incomeBeforeTax\": 109207000000, \"incomeBeforeTaxRatio\": 0.2985290459, \"incomeTaxExpense\": 14527000000, \"netIncome\": 94680000000, \"netIncomeRatio\": 0.2588179336, \"eps\": 5.67, \"epsdiluted\": 5.61, \"weightedAverageShsOut\": 16701272000, \"weightedAverageShsOutDil\": 16864919000, \"link\": \"https://www.sec.gov/Archives/edgar/data/320193/000032019321000105/0000320193-21-000105-index.htm\", \"finalLink\": \"https://www.sec.gov/Archives/edgar/data/320193/000032019321000105/aapl-20210925.htm\"}, {\"date\": \"2020-09-26\", \"symbol\": \"AAPL\", \"reportedCurrency\": \"USD\", \"cik\": \"0000320193\", \"fillingDate\": \"2020-10-30\", \"acceptedDate\": \"2020-10-29 18:06:25\", \"calendarYear\": \"2020\", \"period\": \"FY\", \"revenue\": 274515000000, \"costOfRevenue\": 169559000000, \"grossProfit\": 104956000000, \"grossProfitRatio\": 0.3823324773, \"researchAndDevelopmentExpenses\": 18752000000, \"generalAndAdministrativeExpenses\": 0, \"sellingAndMarketingExpenses\": 0, \"sellingGeneralAndAdministrativeExpenses\": 19916000000, \"otherExpenses\": 803000000, \"operatingExpenses\": 38668000000, \"costAndExpenses\": 208227000000, \"interestIncome\": 3763000000, \"interestExpense\": 2873000000, \"depreciationAndAmortization\": 11056000000, \"ebitda\": 77344000000, \"ebitdaratio\": 0.2817478098, \"operatingIncome\": 66288000000, \"operatingIncomeRatio\": 0.2414731435, \"totalOtherIncomeExpensesNet\": 803000000, \"incomeBeforeTax\": 67091000000, \"incomeBeforeTaxRatio\": 0.2443983025, \"incomeTaxExpense\": 9680000000, \"netIncome\": 57411000000, \"netIncomeRatio\": 0.2091361128, \"eps\": 3.31, \"epsdiluted\": 3.28, \"weightedAverageShsOut\": 17352119000, \"weightedAverageShsOutDil\": 17528214000, \"link\": \"https://www.sec.gov/Archives/edgar/data/320193/000032019320000096/0000320193-20-000096-index.htm\", \"finalLink\": \"https://www.sec.gov/Archives/edgar/data/320193/000032019320000096/aapl-20200926.htm\"}, {\"date\": \"2019-09-28\", \"symbol\": \"AAPL\", \"reportedCurrency\": \"USD\", \"cik\": \"0000320193\", \"fillingDate\": \"2019-10-31\", \"acceptedDate\": \"2019-10-30 18:12:36\", \"calendarYear\": \"2019\", \"period\": \"FY\", \"revenue\": 260174000000, \"costOfRevenue\": 161782000000, \"grossProfit\": 98392000000, \"grossProfitRatio\": 0.3781776811, \"researchAndDevelopmentExpenses\": 16217000000, \"generalAndAdministrativeExpenses\": 0, \"sellingAndMarketingExpenses\": 0, \"sellingGeneralAndAdministrativeExpenses\": 18245000000, \"otherExpenses\": 1807000000, \"operatingExpenses\": 34462000000, \"costAndExpenses\": 196244000000, \"interestIncome\": 4961000000, \"interestExpense\": 3576000000, \"depreciationAndAmortization\": 12547000000, \"ebitda\": 76477000000, \"ebitdaratio\": 0.2939455903, \"operatingIncome\": 63930000000, \"operatingIncomeRatio\": 0.2457201719, \"totalOtherIncomeExpensesNet\": 1807000000, \"incomeBeforeTax\": 65737000000, \"incomeBeforeTaxRatio\": 0.2526655238, \"incomeTaxExpense\": 10481000000, \"netIncome\": 55256000000, \"netIncomeRatio\": 0.2123809451, \"eps\": 2.99, \"epsdiluted\": 2.97, \"weightedAverageShsOut\": 18471336000, \"weightedAverageShsOutDil\": 18595652000, \"link\": \"https://www.sec.gov/Archives/edgar/data/320193/000032019319000119/0000320193-19-000119-index.htm\", \"finalLink\": \"https://www.sec.gov/Archives/edgar/data/320193/000032019319000119/a10-k20199282019.htm\"}]'}] >>>>>\n",
      "Run is queued. Waiting...\n",
      "Run is queued. Waiting...\n",
      "Run is queued. Waiting...\n",
      "Run is queued. Waiting...\n",
      "Assistant: Here is the quarterly income statement for the latest quarters:\n",
      "\n",
      "1. Quarter ending 2023-09-30:\n",
      "   - Revenue: $383,285,000,000\n",
      "   - Gross Profit: $169,148,000,000\n",
      "   - Operating Income: $114,301,000,000\n",
      "   - Net Income: $96,995,000,000\n",
      "   - EPS: $6.16\n",
      "   - Final Link: [Income Statement Q3 2023](https://www.sec.gov/Archives/edgar/data/320193/000032019323000106/aapl-20230930.htm)\n",
      "\n",
      "2. Quarter ending 2022-09-24:\n",
      "   - Revenue: $394,328,000,000\n",
      "   - Gross Profit: $170,782,000,000\n",
      "   - Operating Income: $119,437,000,000\n",
      "   - Net Income: $99,803,000,000\n",
      "   - EPS: $6.15\n",
      "   - Final Link: [Income Statement Q3 2022](https://www.sec.gov/Archives/edgar/data/320193/000032019322000108/aapl-20220924.htm)\n",
      "\n",
      "3. Quarter ending 2021-09-25:\n",
      "   - Revenue: $365,817,000,000\n",
      "   - Gross Profit: $152,836,000,000\n",
      "   - Operating Income: $108,949,000,000\n",
      "   - Net Income: $94,680,000,000\n",
      "   - EPS: $5.67\n",
      "   - Final Link: [Income Statement Q3 2021](https://www.sec.gov/Archives/edgar/data/320193/000032019321000105/aapl-20210925.htm)\n",
      "\n",
      "4. Quarter ending 2020-09-26:\n",
      "   - Revenue: $274,515,000,000\n",
      "   - Gross Profit: $104,956,000,000\n",
      "   - Operating Income: $66,288,000,000\n",
      "   - Net Income: $57,411,000,000\n",
      "   - EPS: $3.31\n",
      "   - Final Link: [Income Statement Q3 2020](https://www.sec.gov/Archives/edgar/data/320193/000032019320000096/aapl-20200926.htm)\n",
      "\n",
      "5. Quarter ending 2019-09-28:\n",
      "   - Revenue: $260,174,000,000\n",
      "   - Gross Profit: $98,392,000,000\n",
      "   - Operating Income: $63,930,000,000\n",
      "   - Net Income: $55,256,000,000\n",
      "   - EPS: $2.99\n",
      "   - Final Link: [Income Statement Q3 2019](https://www.sec.gov/Archives/edgar/data/320193/000032019319000119/a10-k20199282019.htm)\n",
      "\n",
      "User: Kindly show quater income statemnet.\n",
      "\n"
     ]
    }
   ],
   "source": [
    "import time\n",
    "\n",
    "while True:\n",
    "    runStatus = client.beta.threads.runs.retrieve(thread_id=thread.id,run_id=run.id)\n",
    "\n",
    "    if runStatus.status == \"requires_action\":\n",
    "        \n",
    "        \n",
    "        if runStatus.required_action.submit_tool_outputs and runStatus.required_action.submit_tool_outputs.tool_calls:\n",
    "            \n",
    "            toolCalls = runStatus.required_action.submit_tool_outputs.tool_calls\n",
    "\n",
    "            tool_outputs = []\n",
    "            for toolcall in toolCalls:\n",
    "                function_name = toolcall.function.name\n",
    "                function_args = json.loads(toolcall.function.arguments)\n",
    "                \n",
    "                if function_name in available_functions:\n",
    "                    function_to_call = available_functions[function_name]\n",
    "                    response = function_to_call(**function_args)\n",
    "                    tool_outputs.append({\"tool_call_id\": toolcall.id,\n",
    "                                  \"output\": response})\n",
    "                  \n",
    "                    \n",
    "                  \n",
    "            print(tool_outputs,\">>>>>\") \n",
    "\n",
    "            client.beta.threads.runs.submit_tool_outputs(\n",
    "                thread_id=thread.id,\n",
    "                run_id=run.id,\n",
    "                tool_outputs=tool_outputs)\n",
    "      \n",
    "    elif runStatus.status == \"completed\":\n",
    "\n",
    "        messages = client.beta.threads.messages.list(thread_id=thread.id)\n",
    "        for message in messages.data:\n",
    "            role_label = \"User\" if message.role == \"user\" else \"Assistant\"\n",
    "            message_content = message.content[0].text.value\n",
    "            print(f\"{role_label}: {message_content}\\n\")\n",
    "        break  \n",
    "\n",
    "    elif run.status == \"failed\":\n",
    "      print(\"Run failed.\")\n",
    "      break\n",
    "\n",
    "    elif run.status in [\"in_progress\", \"queued\"]:\n",
    "      print(f\"Run is {run.status}. Waiting...\")\n",
    "      time.sleep(5)  # Wait for 5 seconds before checking again\n",
    "\n",
    "    else:\n",
    "      print(f\"Unexpected status: {run.status}\")\n",
    "      break\n",
    "\n",
    "\n"
   ]
  }
 ],
 "metadata": {
  "kernelspec": {
   "display_name": "base",
   "language": "python",
   "name": "python3"
  },
  "language_info": {
   "codemirror_mode": {
    "name": "ipython",
    "version": 3
   },
   "file_extension": ".py",
   "mimetype": "text/x-python",
   "name": "python",
   "nbconvert_exporter": "python",
   "pygments_lexer": "ipython3",
   "version": "3.12.0"
  }
 },
 "nbformat": 4,
 "nbformat_minor": 2
}
